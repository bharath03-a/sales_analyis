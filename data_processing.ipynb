{
 "cells": [
  {
   "cell_type": "code",
   "execution_count": 37,
   "id": "ea0757d9-0fcb-471f-8cfc-e4a396498c6b",
   "metadata": {},
   "outputs": [],
   "source": [
    "import os\n",
    "import sys\n",
    "\n",
    "import pandas as pd\n",
    "import numpy as np\n",
    "import matplotlib.pyplot as plt\n",
    "import warnings\n",
    "%matplotlib inline"
   ]
  },
  {
   "cell_type": "code",
   "execution_count": 38,
   "id": "f2f3446a-18b3-471b-a046-d4745dd15ad0",
   "metadata": {},
   "outputs": [],
   "source": [
    "warnings.filterwarnings(\"ignore\")"
   ]
  },
  {
   "cell_type": "code",
   "execution_count": 39,
   "id": "1379b4b3-ea67-4d85-8d1e-6cae7358eaff",
   "metadata": {},
   "outputs": [],
   "source": [
    "import pyspark\n",
    "from pyspark.sql import SparkSession\n",
    "from pyspark.sql.functions import lit, desc, col, size, array_contains, isnan, udf, hour, array_min, array_max, countDistinct\n",
    "from pyspark.sql.types import IntegerType, StringType, ArrayType, DoubleType, FloatType"
   ]
  },
  {
   "cell_type": "code",
   "execution_count": 40,
   "id": "f92f94a6-e690-40dd-9e04-95e3b01b5364",
   "metadata": {},
   "outputs": [],
   "source": [
    "# Initialize a spark session.\n",
    "conf = pyspark.SparkConf().setMaster(\"local[*]\")\n",
    "\n",
    "def init_spark():\n",
    "    spark = SparkSession.builder.appName(\"Pyspark guide\").config(conf=conf).getOrCreate()\n",
    "    return spark\n",
    "\n",
    "spark = init_spark()"
   ]
  },
  {
   "cell_type": "code",
   "execution_count": 41,
   "id": "dc8ff79a-9455-4b3a-ade7-d0f38053307b",
   "metadata": {},
   "outputs": [
    {
     "data": {
      "text/html": [
       "\n",
       "            <div>\n",
       "                <p><b>SparkSession - hive</b></p>\n",
       "                \n",
       "        <div>\n",
       "            <p><b>SparkContext</b></p>\n",
       "\n",
       "            <p><a href=\"http://192.168.94.25:4040\">Spark UI</a></p>\n",
       "\n",
       "            <dl>\n",
       "              <dt>Version</dt>\n",
       "                <dd><code>v3.5.1</code></dd>\n",
       "              <dt>Master</dt>\n",
       "                <dd><code>local[*]</code></dd>\n",
       "              <dt>AppName</dt>\n",
       "                <dd><code>PySparkShell</code></dd>\n",
       "            </dl>\n",
       "        </div>\n",
       "        \n",
       "            </div>\n",
       "        "
      ],
      "text/plain": [
       "<pyspark.sql.session.SparkSession at 0x104d5ddd0>"
      ]
     },
     "execution_count": 41,
     "metadata": {},
     "output_type": "execute_result"
    }
   ],
   "source": [
    "spark"
   ]
  },
  {
   "cell_type": "code",
   "execution_count": 42,
   "id": "0814f000-39ad-4b65-88b0-83a8f5cda173",
   "metadata": {},
   "outputs": [],
   "source": [
    "input_path = \"./data/Sales_Data.csv\""
   ]
  },
  {
   "cell_type": "code",
   "execution_count": 43,
   "id": "c7360448-ab95-42bc-8df9-573ed1c7b795",
   "metadata": {},
   "outputs": [],
   "source": [
    "sales_data = spark.read.csv(input_path, header=True)"
   ]
  },
  {
   "cell_type": "code",
   "execution_count": 44,
   "id": "115d89a4-5eb7-4957-80de-d27c45fa972e",
   "metadata": {},
   "outputs": [
    {
     "name": "stdout",
     "output_type": "stream",
     "text": [
      "Data Schema\n"
     ]
    },
    {
     "data": {
      "text/plain": [
       "<bound method DataFrame.printSchema of DataFrame[_c0: string, Order ID: string, Product: string, Quantity Ordered: string, Price Each: string, Order Date: string, Purchase Address: string, Month: string, Sales: string, City: string, Hour: string]>"
      ]
     },
     "execution_count": 44,
     "metadata": {},
     "output_type": "execute_result"
    }
   ],
   "source": [
    "print(\"Data Schema\")\n",
    "sales_data.printSchema"
   ]
  },
  {
   "cell_type": "code",
   "execution_count": 45,
   "id": "913573e5-ff93-46c6-a23a-7a102c56fe19",
   "metadata": {},
   "outputs": [
    {
     "name": "stdout",
     "output_type": "stream",
     "text": [
      "Columns overview\n"
     ]
    },
    {
     "data": {
      "text/html": [
       "<div>\n",
       "<style scoped>\n",
       "    .dataframe tbody tr th:only-of-type {\n",
       "        vertical-align: middle;\n",
       "    }\n",
       "\n",
       "    .dataframe tbody tr th {\n",
       "        vertical-align: top;\n",
       "    }\n",
       "\n",
       "    .dataframe thead th {\n",
       "        text-align: right;\n",
       "    }\n",
       "</style>\n",
       "<table border=\"1\" class=\"dataframe\">\n",
       "  <thead>\n",
       "    <tr style=\"text-align: right;\">\n",
       "      <th></th>\n",
       "      <th>Column Name</th>\n",
       "      <th>Data type</th>\n",
       "    </tr>\n",
       "  </thead>\n",
       "  <tbody>\n",
       "    <tr>\n",
       "      <th>0</th>\n",
       "      <td>_c0</td>\n",
       "      <td>string</td>\n",
       "    </tr>\n",
       "    <tr>\n",
       "      <th>1</th>\n",
       "      <td>Order ID</td>\n",
       "      <td>string</td>\n",
       "    </tr>\n",
       "    <tr>\n",
       "      <th>2</th>\n",
       "      <td>Product</td>\n",
       "      <td>string</td>\n",
       "    </tr>\n",
       "    <tr>\n",
       "      <th>3</th>\n",
       "      <td>Quantity Ordered</td>\n",
       "      <td>string</td>\n",
       "    </tr>\n",
       "    <tr>\n",
       "      <th>4</th>\n",
       "      <td>Price Each</td>\n",
       "      <td>string</td>\n",
       "    </tr>\n",
       "    <tr>\n",
       "      <th>5</th>\n",
       "      <td>Order Date</td>\n",
       "      <td>string</td>\n",
       "    </tr>\n",
       "    <tr>\n",
       "      <th>6</th>\n",
       "      <td>Purchase Address</td>\n",
       "      <td>string</td>\n",
       "    </tr>\n",
       "    <tr>\n",
       "      <th>7</th>\n",
       "      <td>Month</td>\n",
       "      <td>string</td>\n",
       "    </tr>\n",
       "    <tr>\n",
       "      <th>8</th>\n",
       "      <td>Sales</td>\n",
       "      <td>string</td>\n",
       "    </tr>\n",
       "    <tr>\n",
       "      <th>9</th>\n",
       "      <td>City</td>\n",
       "      <td>string</td>\n",
       "    </tr>\n",
       "    <tr>\n",
       "      <th>10</th>\n",
       "      <td>Hour</td>\n",
       "      <td>string</td>\n",
       "    </tr>\n",
       "  </tbody>\n",
       "</table>\n",
       "</div>"
      ],
      "text/plain": [
       "         Column Name Data type\n",
       "0                _c0    string\n",
       "1           Order ID    string\n",
       "2            Product    string\n",
       "3   Quantity Ordered    string\n",
       "4         Price Each    string\n",
       "5         Order Date    string\n",
       "6   Purchase Address    string\n",
       "7              Month    string\n",
       "8              Sales    string\n",
       "9               City    string\n",
       "10              Hour    string"
      ]
     },
     "execution_count": 45,
     "metadata": {},
     "output_type": "execute_result"
    }
   ],
   "source": [
    "print('Columns overview')\n",
    "pd.DataFrame(sales_data.dtypes, columns = ['Column Name','Data type'])"
   ]
  },
  {
   "cell_type": "code",
   "execution_count": 46,
   "id": "6516221d-f6a0-499b-8806-c53fa0e5c63e",
   "metadata": {},
   "outputs": [],
   "source": [
    "sales_data = sales_data.select(\"Order ID\", \"Product\", \"Quantity Ordered\", \"Price Each\", \"Order Date\", \"Purchase Address\", \\\n",
    "                              \"Month\", \"Sales\", \"City\", \"Hour\")"
   ]
  },
  {
   "cell_type": "code",
   "execution_count": 47,
   "id": "ec504c66-37eb-499e-9815-2d61438d58f1",
   "metadata": {},
   "outputs": [
    {
     "name": "stdout",
     "output_type": "stream",
     "text": [
      "Data frame describe (string and numeric columns only):\n"
     ]
    },
    {
     "name": "stderr",
     "output_type": "stream",
     "text": [
      "                                                                                \r"
     ]
    },
    {
     "data": {
      "text/html": [
       "<div>\n",
       "<style scoped>\n",
       "    .dataframe tbody tr th:only-of-type {\n",
       "        vertical-align: middle;\n",
       "    }\n",
       "\n",
       "    .dataframe tbody tr th {\n",
       "        vertical-align: top;\n",
       "    }\n",
       "\n",
       "    .dataframe thead th {\n",
       "        text-align: right;\n",
       "    }\n",
       "</style>\n",
       "<table border=\"1\" class=\"dataframe\">\n",
       "  <thead>\n",
       "    <tr style=\"text-align: right;\">\n",
       "      <th></th>\n",
       "      <th>summary</th>\n",
       "      <th>Order ID</th>\n",
       "      <th>Product</th>\n",
       "      <th>Quantity Ordered</th>\n",
       "      <th>Price Each</th>\n",
       "      <th>Order Date</th>\n",
       "      <th>Purchase Address</th>\n",
       "      <th>Month</th>\n",
       "      <th>Sales</th>\n",
       "      <th>City</th>\n",
       "      <th>Hour</th>\n",
       "    </tr>\n",
       "  </thead>\n",
       "  <tbody>\n",
       "    <tr>\n",
       "      <th>0</th>\n",
       "      <td>count</td>\n",
       "      <td>185950</td>\n",
       "      <td>185950</td>\n",
       "      <td>185950</td>\n",
       "      <td>185950</td>\n",
       "      <td>185950</td>\n",
       "      <td>185950</td>\n",
       "      <td>185950</td>\n",
       "      <td>185950</td>\n",
       "      <td>185950</td>\n",
       "      <td>185950</td>\n",
       "    </tr>\n",
       "    <tr>\n",
       "      <th>1</th>\n",
       "      <td>mean</td>\n",
       "      <td>230417.5693788653</td>\n",
       "      <td>None</td>\n",
       "      <td>1.1243828986286637</td>\n",
       "      <td>184.39973476748673</td>\n",
       "      <td>None</td>\n",
       "      <td>None</td>\n",
       "      <td>7.059139553643453</td>\n",
       "      <td>185.49091675188888</td>\n",
       "      <td>None</td>\n",
       "      <td>14.413304651788115</td>\n",
       "    </tr>\n",
       "    <tr>\n",
       "      <th>2</th>\n",
       "      <td>stddev</td>\n",
       "      <td>51512.73710999645</td>\n",
       "      <td>None</td>\n",
       "      <td>0.4427926240286694</td>\n",
       "      <td>332.7313298843438</td>\n",
       "      <td>None</td>\n",
       "      <td>None</td>\n",
       "      <td>3.5029960006289547</td>\n",
       "      <td>332.9197713864798</td>\n",
       "      <td>None</td>\n",
       "      <td>5.423415962073379</td>\n",
       "    </tr>\n",
       "    <tr>\n",
       "      <th>3</th>\n",
       "      <td>min</td>\n",
       "      <td>141234</td>\n",
       "      <td>20in Monitor</td>\n",
       "      <td>1</td>\n",
       "      <td>109.99</td>\n",
       "      <td>2019-01-01 03:07:00</td>\n",
       "      <td>1 11th St, Atlanta, GA 30301</td>\n",
       "      <td>1</td>\n",
       "      <td>109.99</td>\n",
       "      <td>Atlanta</td>\n",
       "      <td>0</td>\n",
       "    </tr>\n",
       "    <tr>\n",
       "      <th>4</th>\n",
       "      <td>max</td>\n",
       "      <td>319670</td>\n",
       "      <td>iPhone</td>\n",
       "      <td>9</td>\n",
       "      <td>999.99</td>\n",
       "      <td>2020-01-01 05:13:00</td>\n",
       "      <td>999 Wilson St, San Francisco, CA 94016</td>\n",
       "      <td>9</td>\n",
       "      <td>999.99</td>\n",
       "      <td>Seattle</td>\n",
       "      <td>9</td>\n",
       "    </tr>\n",
       "  </tbody>\n",
       "</table>\n",
       "</div>"
      ],
      "text/plain": [
       "  summary           Order ID       Product    Quantity Ordered  \\\n",
       "0   count             185950        185950              185950   \n",
       "1    mean  230417.5693788653          None  1.1243828986286637   \n",
       "2  stddev  51512.73710999645          None  0.4427926240286694   \n",
       "3     min             141234  20in Monitor                   1   \n",
       "4     max             319670        iPhone                   9   \n",
       "\n",
       "           Price Each           Order Date  \\\n",
       "0              185950               185950   \n",
       "1  184.39973476748673                 None   \n",
       "2   332.7313298843438                 None   \n",
       "3              109.99  2019-01-01 03:07:00   \n",
       "4              999.99  2020-01-01 05:13:00   \n",
       "\n",
       "                         Purchase Address               Month  \\\n",
       "0                                  185950              185950   \n",
       "1                                    None   7.059139553643453   \n",
       "2                                    None  3.5029960006289547   \n",
       "3            1 11th St, Atlanta, GA 30301                   1   \n",
       "4  999 Wilson St, San Francisco, CA 94016                   9   \n",
       "\n",
       "                Sales      City                Hour  \n",
       "0              185950    185950              185950  \n",
       "1  185.49091675188888      None  14.413304651788115  \n",
       "2   332.9197713864798      None   5.423415962073379  \n",
       "3              109.99   Atlanta                   0  \n",
       "4              999.99   Seattle                   9  "
      ]
     },
     "execution_count": 47,
     "metadata": {},
     "output_type": "execute_result"
    }
   ],
   "source": [
    "print('Data frame describe (string and numeric columns only):')\n",
    "sales_data.describe().toPandas()"
   ]
  },
  {
   "cell_type": "code",
   "execution_count": 48,
   "id": "af7318a0-97e6-4e3a-802e-f8c030099419",
   "metadata": {},
   "outputs": [
    {
     "name": "stdout",
     "output_type": "stream",
     "text": [
      "There are total 185950 row, Let print first 2 data rows:\n"
     ]
    },
    {
     "data": {
      "text/html": [
       "<div>\n",
       "<style scoped>\n",
       "    .dataframe tbody tr th:only-of-type {\n",
       "        vertical-align: middle;\n",
       "    }\n",
       "\n",
       "    .dataframe tbody tr th {\n",
       "        vertical-align: top;\n",
       "    }\n",
       "\n",
       "    .dataframe thead th {\n",
       "        text-align: right;\n",
       "    }\n",
       "</style>\n",
       "<table border=\"1\" class=\"dataframe\">\n",
       "  <thead>\n",
       "    <tr style=\"text-align: right;\">\n",
       "      <th></th>\n",
       "      <th>Order ID</th>\n",
       "      <th>Product</th>\n",
       "      <th>Quantity Ordered</th>\n",
       "      <th>Price Each</th>\n",
       "      <th>Order Date</th>\n",
       "      <th>Purchase Address</th>\n",
       "      <th>Month</th>\n",
       "      <th>Sales</th>\n",
       "      <th>City</th>\n",
       "      <th>Hour</th>\n",
       "    </tr>\n",
       "  </thead>\n",
       "  <tbody>\n",
       "    <tr>\n",
       "      <th>0</th>\n",
       "      <td>295665</td>\n",
       "      <td>Macbook Pro Laptop</td>\n",
       "      <td>1</td>\n",
       "      <td>1700.0</td>\n",
       "      <td>2019-12-30 00:01:00</td>\n",
       "      <td>136 Church St, New York City, NY 10001</td>\n",
       "      <td>12</td>\n",
       "      <td>1700.0</td>\n",
       "      <td>New York City</td>\n",
       "      <td>0</td>\n",
       "    </tr>\n",
       "    <tr>\n",
       "      <th>1</th>\n",
       "      <td>295666</td>\n",
       "      <td>LG Washing Machine</td>\n",
       "      <td>1</td>\n",
       "      <td>600.0</td>\n",
       "      <td>2019-12-29 07:03:00</td>\n",
       "      <td>562 2nd St, New York City, NY 10001</td>\n",
       "      <td>12</td>\n",
       "      <td>600.0</td>\n",
       "      <td>New York City</td>\n",
       "      <td>7</td>\n",
       "    </tr>\n",
       "  </tbody>\n",
       "</table>\n",
       "</div>"
      ],
      "text/plain": [
       "  Order ID             Product Quantity Ordered Price Each  \\\n",
       "0   295665  Macbook Pro Laptop                1     1700.0   \n",
       "1   295666  LG Washing Machine                1      600.0   \n",
       "\n",
       "            Order Date                        Purchase Address Month   Sales  \\\n",
       "0  2019-12-30 00:01:00  136 Church St, New York City, NY 10001    12  1700.0   \n",
       "1  2019-12-29 07:03:00     562 2nd St, New York City, NY 10001    12   600.0   \n",
       "\n",
       "             City Hour  \n",
       "0   New York City    0  \n",
       "1   New York City    7  "
      ]
     },
     "execution_count": 48,
     "metadata": {},
     "output_type": "execute_result"
    }
   ],
   "source": [
    "print(f'There are total {sales_data.count()} row, Let print first 2 data rows:')\n",
    "sales_data.limit(2).toPandas()"
   ]
  },
  {
   "cell_type": "code",
   "execution_count": 49,
   "id": "893c3b2d-9489-4755-a10b-8f28e5cc05bd",
   "metadata": {},
   "outputs": [
    {
     "data": {
      "text/html": [
       "<div>\n",
       "<style scoped>\n",
       "    .dataframe tbody tr th:only-of-type {\n",
       "        vertical-align: middle;\n",
       "    }\n",
       "\n",
       "    .dataframe tbody tr th {\n",
       "        vertical-align: top;\n",
       "    }\n",
       "\n",
       "    .dataframe thead th {\n",
       "        text-align: right;\n",
       "    }\n",
       "</style>\n",
       "<table border=\"1\" class=\"dataframe\">\n",
       "  <thead>\n",
       "    <tr style=\"text-align: right;\">\n",
       "      <th></th>\n",
       "      <th>Column Name</th>\n",
       "      <th>Data type</th>\n",
       "    </tr>\n",
       "  </thead>\n",
       "  <tbody>\n",
       "    <tr>\n",
       "      <th>0</th>\n",
       "      <td>Order ID</td>\n",
       "      <td>string</td>\n",
       "    </tr>\n",
       "    <tr>\n",
       "      <th>1</th>\n",
       "      <td>Product</td>\n",
       "      <td>string</td>\n",
       "    </tr>\n",
       "    <tr>\n",
       "      <th>2</th>\n",
       "      <td>Quantity Ordered</td>\n",
       "      <td>string</td>\n",
       "    </tr>\n",
       "    <tr>\n",
       "      <th>3</th>\n",
       "      <td>Price Each</td>\n",
       "      <td>string</td>\n",
       "    </tr>\n",
       "    <tr>\n",
       "      <th>4</th>\n",
       "      <td>Order Date</td>\n",
       "      <td>string</td>\n",
       "    </tr>\n",
       "    <tr>\n",
       "      <th>5</th>\n",
       "      <td>Purchase Address</td>\n",
       "      <td>string</td>\n",
       "    </tr>\n",
       "    <tr>\n",
       "      <th>6</th>\n",
       "      <td>Month</td>\n",
       "      <td>string</td>\n",
       "    </tr>\n",
       "    <tr>\n",
       "      <th>7</th>\n",
       "      <td>Sales</td>\n",
       "      <td>string</td>\n",
       "    </tr>\n",
       "    <tr>\n",
       "      <th>8</th>\n",
       "      <td>City</td>\n",
       "      <td>string</td>\n",
       "    </tr>\n",
       "    <tr>\n",
       "      <th>9</th>\n",
       "      <td>Hour</td>\n",
       "      <td>string</td>\n",
       "    </tr>\n",
       "  </tbody>\n",
       "</table>\n",
       "</div>"
      ],
      "text/plain": [
       "        Column Name Data type\n",
       "0          Order ID    string\n",
       "1           Product    string\n",
       "2  Quantity Ordered    string\n",
       "3        Price Each    string\n",
       "4        Order Date    string\n",
       "5  Purchase Address    string\n",
       "6             Month    string\n",
       "7             Sales    string\n",
       "8              City    string\n",
       "9              Hour    string"
      ]
     },
     "execution_count": 49,
     "metadata": {},
     "output_type": "execute_result"
    }
   ],
   "source": [
    "pd.DataFrame(sales_data.dtypes, columns = ['Column Name','Data type'])"
   ]
  },
  {
   "cell_type": "code",
   "execution_count": 50,
   "id": "5be33f8b-daa1-4f08-bdf3-b3b14811861b",
   "metadata": {},
   "outputs": [],
   "source": [
    "string_columns = []\n",
    "numeric_columns = []\n",
    "array_columns = []\n",
    "\n",
    "for field in sales_data.schema.fields:\n",
    "    if isinstance(field.dataType, StringType):\n",
    "        string_columns.append(field.name)\n",
    "    elif isinstance(field.dataType, (IntegerType, DoubleType, FloatType)):\n",
    "        numeric_columns.append(field.name)\n",
    "    elif isinstance(field.dataType, ArrayType):\n",
    "        array_columns.append(field.name)"
   ]
  },
  {
   "cell_type": "code",
   "execution_count": 51,
   "id": "e7c6f4dc-56e2-4061-852f-62709fe3e9c7",
   "metadata": {},
   "outputs": [],
   "source": [
    "@udf(IntegerType())\n",
    "def count_missing(column, column_type):\n",
    "    if column_type == \"string\":\n",
    "        return 1 if column is None or column == \"\" else 0\n",
    "    elif column_type == \"numeric\":\n",
    "        return 1 if column == 0 or column is None or np.isnan(column) else 0\n",
    "    elif column_type == \"array\":\n",
    "        return sum(1 for elem in column if elem == 0 or np.isnan(elem))\n",
    "    return 0"
   ]
  },
  {
   "cell_type": "code",
   "execution_count": 52,
   "id": "f90703b6-fd52-458e-b8a0-15c1bd123292",
   "metadata": {},
   "outputs": [],
   "source": [
    "missing_values = {}\n",
    "\n",
    "for column in sales_data.columns:\n",
    "    if column in string_columns:\n",
    "        column_type = \"string\"\n",
    "    elif column in numeric_columns:\n",
    "        column_type = \"numeric\"\n",
    "    elif column in array_columns:\n",
    "        column_type = \"array\"\n",
    "    else:\n",
    "        continue\n",
    "    \n",
    "    missing_count = sales_data.select(count_missing(col(column), lit(column_type)).alias('missing')).agg({\"missing\": \"sum\"}).collect()[0][0]\n",
    "    missing_values[column] = missing_count\n",
    "\n",
    "missing_df = pd.DataFrame([missing_values])"
   ]
  },
  {
   "cell_type": "code",
   "execution_count": 53,
   "id": "0818f0ce-7887-463c-b8b7-90fa305341b2",
   "metadata": {},
   "outputs": [
    {
     "data": {
      "text/html": [
       "<div>\n",
       "<style scoped>\n",
       "    .dataframe tbody tr th:only-of-type {\n",
       "        vertical-align: middle;\n",
       "    }\n",
       "\n",
       "    .dataframe tbody tr th {\n",
       "        vertical-align: top;\n",
       "    }\n",
       "\n",
       "    .dataframe thead th {\n",
       "        text-align: right;\n",
       "    }\n",
       "</style>\n",
       "<table border=\"1\" class=\"dataframe\">\n",
       "  <thead>\n",
       "    <tr style=\"text-align: right;\">\n",
       "      <th></th>\n",
       "      <th>Order ID</th>\n",
       "      <th>Product</th>\n",
       "      <th>Quantity Ordered</th>\n",
       "      <th>Price Each</th>\n",
       "      <th>Order Date</th>\n",
       "      <th>Purchase Address</th>\n",
       "      <th>Month</th>\n",
       "      <th>Sales</th>\n",
       "      <th>City</th>\n",
       "      <th>Hour</th>\n",
       "    </tr>\n",
       "  </thead>\n",
       "  <tbody>\n",
       "    <tr>\n",
       "      <th>0</th>\n",
       "      <td>0</td>\n",
       "      <td>0</td>\n",
       "      <td>0</td>\n",
       "      <td>0</td>\n",
       "      <td>0</td>\n",
       "      <td>0</td>\n",
       "      <td>0</td>\n",
       "      <td>0</td>\n",
       "      <td>0</td>\n",
       "      <td>0</td>\n",
       "    </tr>\n",
       "  </tbody>\n",
       "</table>\n",
       "</div>"
      ],
      "text/plain": [
       "   Order ID  Product  Quantity Ordered  Price Each  Order Date  \\\n",
       "0         0        0                 0           0           0   \n",
       "\n",
       "   Purchase Address  Month  Sales  City  Hour  \n",
       "0                 0      0      0     0     0  "
      ]
     },
     "execution_count": 53,
     "metadata": {},
     "output_type": "execute_result"
    }
   ],
   "source": [
    "missing_df"
   ]
  },
  {
   "cell_type": "code",
   "execution_count": 61,
   "id": "38f1b8b9-0021-4819-8148-6ef0bfa96fd5",
   "metadata": {},
   "outputs": [],
   "source": [
    "sales_data = sales_data.select(['Order ID', 'Product', 'Quantity Ordered', 'Price Each', 'Order Date', 'Month', 'City', 'Hour'])"
   ]
  },
  {
   "cell_type": "code",
   "execution_count": 101,
   "id": "84c56709-de12-47f7-9da4-dcf20705ea42",
   "metadata": {},
   "outputs": [],
   "source": [
    "distinct_products = sales_data.groupby(sales_data.Product).count().orderBy(\"count\", acsending = False).collect()"
   ]
  },
  {
   "cell_type": "code",
   "execution_count": 109,
   "id": "5ae76761-0047-4c9a-83e0-b526f433883a",
   "metadata": {},
   "outputs": [
    {
     "name": "stdout",
     "output_type": "stream",
     "text": [
      "[{'LG Dryer': 646}, {'LG Washing Machine': 666}, {'Vareebadd Phone': 2065}, {'20in Monitor': 4101}, {'ThinkPad Laptop': 4128}, {'Macbook Pro Laptop': 4724}, {'Flatscreen TV': 4800}, {'Google Phone': 5525}, {'34in Ultrawide Monitor': 6181}, {'27in 4K Gaming Monitor': 6230}, {'iPhone': 6842}, {'27in FHD Monitor': 7507}, {'Bose SoundSport Headphones': 13325}, {'Apple Airpods Headphones': 15549}, {'Wired Headphones': 18882}, {'AA Batteries (4-pack)': 20577}, {'AAA Batteries (4-pack)': 20641}, {'Lightning Charging Cable': 21658}, {'USB-C Charging Cable': 21903}]\n"
     ]
    }
   ],
   "source": [
    "product_list = [{row['Product'] : row['count']} for row in distinct_products]\n",
    "print(product_list)"
   ]
  },
  {
   "cell_type": "code",
   "execution_count": null,
   "id": "f1ff4bb4-6870-4188-ba41-456ff5661926",
   "metadata": {},
   "outputs": [],
   "source": []
  }
 ],
 "metadata": {
  "kernelspec": {
   "display_name": "Python 3 (ipykernel)",
   "language": "python",
   "name": "python3"
  },
  "language_info": {
   "codemirror_mode": {
    "name": "ipython",
    "version": 3
   },
   "file_extension": ".py",
   "mimetype": "text/x-python",
   "name": "python",
   "nbconvert_exporter": "python",
   "pygments_lexer": "ipython3",
   "version": "3.11.7"
  }
 },
 "nbformat": 4,
 "nbformat_minor": 5
}
